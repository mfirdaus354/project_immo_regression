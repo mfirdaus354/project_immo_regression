{
 "cells": [
  {
   "cell_type": "code",
   "execution_count": 1,
   "metadata": {},
   "outputs": [
    {
     "ename": "ModuleNotFoundError",
     "evalue": "No module named 'pimp_my_data'",
     "output_type": "error",
     "traceback": [
      "\u001b[1;31m---------------------------------------------------------------------------\u001b[0m",
      "\u001b[1;31mModuleNotFoundError\u001b[0m                       Traceback (most recent call last)",
      "Cell \u001b[1;32mIn[1], line 17\u001b[0m\n\u001b[0;32m      3\u001b[0m \u001b[39mimport\u001b[39;00m \u001b[39msys\u001b[39;00m\n\u001b[0;32m      4\u001b[0m \u001b[39m# os.pardir\u001b[39;00m\n\u001b[0;32m      5\u001b[0m \u001b[39m# current_directory = os.getcwd()\u001b[39;00m\n\u001b[0;32m      6\u001b[0m \u001b[39m# print(\"Current working directory:\", current_directory)\u001b[39;00m\n\u001b[1;32m   (...)\u001b[0m\n\u001b[0;32m     14\u001b[0m \u001b[39m# current_directory = os.getcwd()\u001b[39;00m\n\u001b[0;32m     15\u001b[0m \u001b[39m# print(\"Current working directory:\", current_directory)\u001b[39;00m\n\u001b[1;32m---> 17\u001b[0m \u001b[39mfrom\u001b[39;00m \u001b[39mpimp_my_data\u001b[39;00m \u001b[39mimport\u001b[39;00m PimpMyData\n\u001b[0;32m     19\u001b[0m pimp_data \u001b[39m=\u001b[39m PimpMyData()\n\u001b[0;32m     21\u001b[0m display(pimp_data\u001b[39m.\u001b[39mpresent_data())\n",
      "\u001b[1;31mModuleNotFoundError\u001b[0m: No module named 'pimp_my_data'"
     ]
    }
   ],
   "source": [
    "import os\n",
    "import pandas as pd\n",
    "import sys\n",
    "# os.pardir\n",
    "# current_directory = os.getcwd()\n",
    "# print(\"Current working directory:\", current_directory)\n",
    "# parent_dir = os.path.dirname(current_directory)\n",
    "# file_dir = os.path.abspath(os.path.join(parent_dir, 'src'))\n",
    "# print(parent_dir)\n",
    "# print(file_dir)\n",
    "\n",
    "# os.chdir(file_dir)\n",
    "# # sys.path.insert(0,parent_dir)\n",
    "# current_directory = os.getcwd()\n",
    "# print(\"Current working directory:\", current_directory)\n",
    "\n",
    "from pimp_my_data import PimpMyData\n",
    "\n",
    "pimp_data = PimpMyData()\n",
    "\n",
    "display(pimp_data.present_data())\n",
    "\n"
   ]
  }
 ],
 "metadata": {
  "kernelspec": {
   "display_name": "dev_env",
   "language": "python",
   "name": "python3"
  },
  "language_info": {
   "codemirror_mode": {
    "name": "ipython",
    "version": 3
   },
   "file_extension": ".py",
   "mimetype": "text/x-python",
   "name": "python",
   "nbconvert_exporter": "python",
   "pygments_lexer": "ipython3",
   "version": "3.11.3"
  },
  "orig_nbformat": 4
 },
 "nbformat": 4,
 "nbformat_minor": 2
}
