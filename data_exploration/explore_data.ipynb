{
 "cells": [
  {
   "cell_type": "code",
   "execution_count": 1,
   "metadata": {},
   "outputs": [
    {
     "name": "stdout",
     "output_type": "stream",
     "text": [
      "Current working directory: c:\\Users\\dimas\\Desktop\\BECODE\\PROJECTS\\project_immo_regression\\data_exploration\n",
      "c:\\Users\\dimas\\Desktop\\BECODE\\PROJECTS\\project_immo_regression\n",
      "c:\\Users\\dimas\\Desktop\\BECODE\\PROJECTS\\project_immo_regression\\src\n",
      "Current working directory: c:\\Users\\dimas\\Desktop\\BECODE\\PROJECTS\\project_immo_regression\\src\n"
     ]
    },
    {
     "ename": "TypeError",
     "evalue": "stat: path should be string, bytes, os.PathLike or integer, not function",
     "output_type": "error",
     "traceback": [
      "\u001b[1;31m---------------------------------------------------------------------------\u001b[0m",
      "\u001b[1;31mTypeError\u001b[0m                                 Traceback (most recent call last)",
      "Cell \u001b[1;32mIn[1], line 19\u001b[0m\n\u001b[0;32m     15\u001b[0m \u001b[39mprint\u001b[39m(\u001b[39m\"\u001b[39m\u001b[39mCurrent working directory:\u001b[39m\u001b[39m\"\u001b[39m, current_directory)\n\u001b[0;32m     17\u001b[0m \u001b[39mfrom\u001b[39;00m \u001b[39mpimp_my_data\u001b[39;00m \u001b[39mimport\u001b[39;00m PimpMyData\n\u001b[1;32m---> 19\u001b[0m pimp_data \u001b[39m=\u001b[39m PimpMyData()\n\u001b[0;32m     21\u001b[0m display(pimp_data\u001b[39m.\u001b[39mpresent_data())\n",
      "File \u001b[1;32mc:\\Users\\dimas\\Desktop\\BECODE\\PROJECTS\\project_immo_regression\\src\\pimp_my_data.py:35\u001b[0m, in \u001b[0;36mPimpMyData.__init__\u001b[1;34m(self)\u001b[0m\n\u001b[0;32m     31\u001b[0m \u001b[39mdef\u001b[39;00m \u001b[39m__init__\u001b[39m(\u001b[39mself\u001b[39m):\n\u001b[0;32m     33\u001b[0m     data_file_path \u001b[39m=\u001b[39m PimpMyData\u001b[39m.\u001b[39m_get_file_path\n\u001b[1;32m---> 35\u001b[0m     \u001b[39mif\u001b[39;00m \u001b[39mnot\u001b[39;00m os\u001b[39m.\u001b[39;49mpath\u001b[39m.\u001b[39;49misfile(data_file_path):\n\u001b[0;32m     36\u001b[0m         \u001b[39mraise\u001b[39;00m \u001b[39mFileNotFoundError\u001b[39;00m(\u001b[39mf\u001b[39m\u001b[39m\"\u001b[39m\u001b[39mFile \u001b[39m\u001b[39m'\u001b[39m\u001b[39m{\u001b[39;00mdata_file_path\u001b[39m}\u001b[39;00m\u001b[39m'\u001b[39m\u001b[39m not found. Please check the file path.\u001b[39m\u001b[39m\"\u001b[39m)\n\u001b[0;32m     38\u001b[0m     \u001b[39mself\u001b[39m\u001b[39m.\u001b[39mdataframe_main \u001b[39m=\u001b[39m pd\u001b[39m.\u001b[39mread_json(data_file_path)\n",
      "File \u001b[1;32m<frozen genericpath>:30\u001b[0m, in \u001b[0;36misfile\u001b[1;34m(path)\u001b[0m\n",
      "\u001b[1;31mTypeError\u001b[0m: stat: path should be string, bytes, os.PathLike or integer, not function"
     ]
    }
   ],
   "source": [
    "import os\n",
    "import pandas as pd\n",
    "import sys\n",
    "# os.pardir\n",
    "current_directory = os.getcwd()\n",
    "print(\"Current working directory:\", current_directory)\n",
    "parent_dir = os.path.dirname(current_directory)\n",
    "file_dir = os.path.abspath(os.path.join(parent_dir, 'src'))\n",
    "print(parent_dir)\n",
    "print(file_dir)\n",
    "\n",
    "os.chdir(file_dir)\n",
    "# sys.path.insert(0,parent_dir)\n",
    "current_directory = os.getcwd()\n",
    "print(\"Current working directory:\", current_directory)\n",
    "\n",
    "from pimp_my_data import PimpMyData\n",
    "\n",
    "pimp_data = PimpMyData()\n",
    "\n",
    "display(pimp_data.present_data())\n",
    "\n"
   ]
  }
 ],
 "metadata": {
  "kernelspec": {
   "display_name": "dev_env",
   "language": "python",
   "name": "python3"
  },
  "language_info": {
   "codemirror_mode": {
    "name": "ipython",
    "version": 3
   },
   "file_extension": ".py",
   "mimetype": "text/x-python",
   "name": "python",
   "nbconvert_exporter": "python",
   "pygments_lexer": "ipython3",
   "version": "3.11.3"
  },
  "orig_nbformat": 4
 },
 "nbformat": 4,
 "nbformat_minor": 2
}
