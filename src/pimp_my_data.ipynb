{
 "cells": [
  {
   "cell_type": "code",
   "execution_count": 2,
   "metadata": {},
   "outputs": [
    {
     "name": "stdout",
     "output_type": "stream",
     "text": [
      "<built-in function getcwd>\n"
     ]
    }
   ],
   "source": [
    "import os\n",
    "print(str(os.getcwd))"
   ]
  },
  {
   "cell_type": "code",
   "execution_count": null,
   "metadata": {},
   "outputs": [],
   "source": [
    "import pandas as pd\n",
    "import seaborn as sns\n",
    "import matplotlib.pyplot as plt \n",
    "import plotly\n",
    "import os\n",
    "import sys\n",
    "\n",
    "class PimpMyData:\n",
    "    \"\"\"\n",
    "    PimpMyData has 3 methods and 1 static method\n",
    "    \"\"\"\n",
    "    @staticmethod\n",
    "    def _get_parent_directory():\n",
    "        current_dir = os.getcwd()\n",
    "        parent_dir = os.path.dirname(current_dir)\n",
    "        return parent_dir\n",
    "\n",
    "    def __init__(self):\n",
    "        parent_dir = PimpMyData._get_parent_directory()\n",
    "        data_file_path = os.path.join(parent_dir, 'data', 'data_for_sale.json')\n",
    "        \n",
    "        if not os.path.isfile(data_file_path):\n",
    "            raise FileNotFoundError(f\"File '{data_file_path}' not found. Please check the file path.\")\n",
    "        \n",
    "        self.dataframe_main = pd.read_json(data_file_path)\n",
    "            \n",
    "        self.dtypes = {\n",
    "            \"ïmmocode\": \"int32\", \n",
    "            \"price\" : \"int32\",\n",
    "            \"price_per_sqmeter\" : \"float\",\n",
    "            \"habitable_surface\" : \"float\",\n",
    "            \"plot_area\" : \"float\",\n",
    "            \"land_surface\" : \"float\",\n",
    "            \"bedroom_count\" : \"int32\",\n",
    "            \"room_count\" : \"int32\"\n",
    "        }\n",
    "\n",
    "\n",
    "    def present_data(self, columns=None, choices=None, details=None, df=None):\n",
    "        if df is None:\n",
    "            result = self.dataframe_main.head()\n",
    "        else:\n",
    "            if columns is not None and choices is not None and details is not None:\n",
    "                for choice in choices:\n",
    "                    for detail in details:\n",
    "                        for col in columns:\n",
    "                            if choice == \"display\":    \n",
    "                                if detail == \"head\":\n",
    "                                    result = df.head()\n",
    "                                elif detail == \"tail\":\n",
    "                                    result = df.head()\n",
    "                                elif detail == \"info\":\n",
    "                                    result = df[col].info()\n",
    "                                elif detail == \"describe\":\n",
    "                                    result = df[col].describe()\n",
    "                                else:\n",
    "                                    result = self.dataframe_main.head()\n",
    "                            elif choice == \"value_counts\":\n",
    "                                result = df[col].value_counts()\n",
    "        \n",
    "        return result\n",
    "                         \n",
    "\n",
    "    def give_continuous(self, df=None, option=None, target=None):\n",
    "        option_list = [\"plot_area\", \"habitable_surface\", \"bedroom_count\", \"land_surface\", \"room_count\"]\n",
    "        target_list = [\"price\", \"price_per_sqmeter\"]\n",
    "        if df is not None and option is not None and target is not None:\n",
    "            if option in option_list and target in target_list:\n",
    "                output = df[[target, option]]\n",
    "            else:\n",
    "                print(\"Try Again\")\n",
    "        else:\n",
    "            print(\"Try Again\")\n",
    "\n",
    "\n",
    "    def give_categorical(self, df=None, option=None, target=None):\n",
    "        if df is not None and option is not None and target is not None:\n",
    "            if target == \"price\" and len(df[option]) <= 5: \n",
    "                dummies = pd.get_dummies(df[option])\n",
    "                output = pd.concat(pd.DataFrame(df[\"price\"]).reset_index(), dummies)\n",
    "        return output\n",
    "    \n",
    "    def clean_dtypes_numerics(self, df=None):\n",
    "        if df is not None:\n",
    "            df = df.astype(dtype=self.dtypes)\n",
    "        return df\n",
    "    "
   ]
  }
 ],
 "metadata": {
  "kernelspec": {
   "display_name": "dev_env",
   "language": "python",
   "name": "python3"
  },
  "language_info": {
   "codemirror_mode": {
    "name": "ipython",
    "version": 3
   },
   "file_extension": ".py",
   "mimetype": "text/x-python",
   "name": "python",
   "nbconvert_exporter": "python",
   "pygments_lexer": "ipython3",
   "version": "3.11.3"
  },
  "orig_nbformat": 4
 },
 "nbformat": 4,
 "nbformat_minor": 2
}
